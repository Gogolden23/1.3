{
  "nbformat": 4,
  "nbformat_minor": 0,
  "metadata": {
    "colab": {
      "provenance": [],
      "include_colab_link": true
    },
    "kernelspec": {
      "name": "python3",
      "display_name": "Python 3"
    },
    "language_info": {
      "name": "python"
    }
  },
  "cells": [
    {
      "cell_type": "markdown",
      "metadata": {
        "id": "view-in-github",
        "colab_type": "text"
      },
      "source": [
        "<a href=\"https://colab.research.google.com/github/Gogolden23/1.3/blob/main/Copy_of_Week2_Assignment_2_1.ipynb\" target=\"_parent\"><img src=\"https://colab.research.google.com/assets/colab-badge.svg\" alt=\"Open In Colab\"/></a>"
      ]
    },
    {
      "cell_type": "markdown",
      "source": [
        "Define a function named calculate_median that takes a list of numbers as input and returns the median of those numbers."
      ],
      "metadata": {
        "id": "IY9UAVMrFFMK"
      }
    },
    {
      "cell_type": "code",
      "source": [
        "data = [1,2,3,4,5,6,7,8,9,10]\n",
        "\n",
        "def calculate_median(data):\n",
        "  data.sort()\n",
        "  Num=len(data)\n",
        "\n",
        "  if Num % 2 == 1:\n",
        "    return data[Num//2]\n",
        "  else:\n",
        "    return (data[Num//2-1]+data[Num//2])/2\n",
        "\n",
        "print(calculate_median(data))\n",
        "\n",
        "\n",
        ""
      ],
      "metadata": {
        "id": "T8aVV1vxFJsX",
        "colab": {
          "base_uri": "https://localhost:8080/"
        },
        "outputId": "0104dc88-838e-47ef-868f-96017eab0096"
      },
      "execution_count": 20,
      "outputs": [
        {
          "output_type": "stream",
          "name": "stdout",
          "text": [
            "5.5\n"
          ]
        }
      ]
    },
    {
      "cell_type": "markdown",
      "source": [
        "Read a text file named \"text.txt\" containing the following text. Count the occurrences of each word and store them in a dictionary.\n",
        "\n",
        "**Text:** apple banana apple orange mango mango grape grape peach pear peach pear kiwi kiwi pineapple pineapple strawberry strawberry blueberry blueberry watermelon watermelon lemon lemon lime\""
      ],
      "metadata": {
        "id": "nfCEGqBZFfIP"
      }
    },
    {
      "cell_type": "code",
      "source": [
        "import re\n",
        "from collections import Counter\n",
        "\n",
        "with open('/content/Data Class.2.txt', 'r') as file:\n",
        "    text = file.read()\n",
        "\n",
        "words = text.split()\n",
        "word_counts = Counter(words)\n",
        "\n",
        "for word, count in word_counts.items():\n",
        "    print(f\"{word}: {count}\")\n"
      ],
      "metadata": {
        "id": "MvE0QgThFz77",
        "colab": {
          "base_uri": "https://localhost:8080/"
        },
        "outputId": "f642f015-ebfb-4250-94c2-c99c6afbda9b"
      },
      "execution_count": 3,
      "outputs": [
        {
          "output_type": "stream",
          "name": "stdout",
          "text": [
            "apple: 2\n",
            "banana: 1\n",
            "orange: 1\n",
            "mango: 2\n",
            "grape: 2\n",
            "peach: 2\n",
            "pear: 2\n",
            "kiwi: 2\n",
            "pineapple: 2\n",
            "strawberry: 2\n",
            "blueberry: 2\n",
            "watermelon: 2\n",
            "lemon: 2\n",
            "lime\": 1\n"
          ]
        }
      ]
    },
    {
      "cell_type": "markdown",
      "source": [
        "Create a .txt file and write some content into it. Read this content from '.txt' file and write it into another file named 'copy.txt' using a file method and a loop."
      ],
      "metadata": {
        "id": "dH4yhd-KFlbF"
      }
    },
    {
      "cell_type": "code",
      "source": [
        "with open('/content/First_file.txt' , 'r') as file:\n",
        "  content = file.read()\n",
        "  print(content)\n",
        "with open('/content/Second_file.txt' , 'w') as file:\n",
        "  file.write('This is for the scond file')\n",
        "  print('file has been updated')\n",
        "\n"
      ],
      "metadata": {
        "id": "CtPv4V0hFzO3",
        "colab": {
          "base_uri": "https://localhost:8080/"
        },
        "outputId": "230e4160-f19a-43ef-a1a7-13409fa2c139"
      },
      "execution_count": 27,
      "outputs": [
        {
          "output_type": "stream",
          "name": "stdout",
          "text": [
            "This is the original file I made.\n",
            "file has been updated\n"
          ]
        }
      ]
    }
  ]
}